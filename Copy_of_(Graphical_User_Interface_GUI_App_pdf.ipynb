{
  "nbformat": 4,
  "nbformat_minor": 0,
  "metadata": {
    "colab": {
      "provenance": [],
      "collapsed_sections": [],
      "authorship_tag": "ABX9TyMHDyJJwCnd08rO0Kqwnc+D",
      "include_colab_link": true
    },
    "kernelspec": {
      "name": "python3",
      "display_name": "Python 3"
    },
    "language_info": {
      "name": "python"
    }
  },
  "cells": [
    {
      "cell_type": "markdown",
      "metadata": {
        "id": "view-in-github",
        "colab_type": "text"
      },
      "source": [
        "<a href=\"https://colab.research.google.com/github/ektajsme910/GUI-in-python-/blob/main/Copy_of_(Graphical_User_Interface_GUI_App_pdf.ipynb\" target=\"_parent\"><img src=\"https://colab.research.google.com/assets/colab-badge.svg\" alt=\"Open In Colab\"/></a>"
      ]
    },
    {
      "cell_type": "markdown",
      "source": [
        "# **Capstone Projects**\n",
        "\n",
        "---\n",
        "\n"
      ],
      "metadata": {
        "id": "Hcq9S0TDDj_w"
      }
    },
    {
      "cell_type": "markdown",
      "source": [
        "# **Introduction:-**"
      ],
      "metadata": {
        "id": "6s62OQWrne9Z"
      }
    },
    {
      "cell_type": "markdown",
      "source": [
        "# **Graphical User Interface**\n",
        "\n",
        "\n",
        "\n"
      ],
      "metadata": {
        "id": "K43Dju3_CC70"
      }
    },
    {
      "cell_type": "markdown",
      "source": [
        "The graphical user inface is the form of user inface that allows users to interact with electronics devices through graphical icons and audio indicator such as primary notation, instad of text-based user interfaces, types command labels or text navigation.\n",
        "\n",
        "\n",
        "\n",
        "\n",
        "\n"
      ],
      "metadata": {
        "id": "mvSv4naXCPDg"
      }
    },
    {
      "cell_type": "code",
      "source": [],
      "metadata": {
        "id": "l4hb_XItKdEe"
      },
      "execution_count": null,
      "outputs": []
    },
    {
      "cell_type": "markdown",
      "source": [],
      "metadata": {
        "id": "oO1dcoI9Kf64"
      }
    },
    {
      "cell_type": "markdown",
      "source": [
        "# **Graphical User Interface(GUI) in Python**"
      ],
      "metadata": {
        "id": "wlAdGteVW4hq"
      }
    },
    {
      "cell_type": "code",
      "source": [],
      "metadata": {
        "id": "1au7lEC6Kmr5"
      },
      "execution_count": null,
      "outputs": []
    },
    {
      "cell_type": "markdown",
      "source": [
        "A Python GUI project, or the PyGUI framework as it is more commonly known, is a simple API that enables developers to create user interfaces using native elements for Python applications."
      ],
      "metadata": {
        "id": "mRwxGqEYX-J4"
      }
    },
    {
      "cell_type": "markdown",
      "source": [
        "# **Graphical User Interface(GUI) Application**"
      ],
      "metadata": {
        "id": "4uj8Fo0Ob5fW"
      }
    },
    {
      "cell_type": "markdown",
      "source": [
        "A graphical User Interface is an application that has button, windows, and lots of other widgets that the user can use to interact with your application.\n",
        " A good example would be a web browser. It has buttons, tabs and a main window where  all the content loads."
      ],
      "metadata": {
        "id": "0oHVTgVXeXao"
      }
    },
    {
      "cell_type": "markdown",
      "source": [
        "# **Graphical User Interface(GUI) Design**"
      ],
      "metadata": {
        "id": "XwmcQgFifl7t"
      }
    },
    {
      "cell_type": "markdown",
      "source": [
        "GUI is a key component in creating effective human-computer interaction (HCI). Thus, the design process below is just an extract from a general five stages of the design thinking process(Empathize, Define, Ideate, Prototype, and Test) that product design teams use."
      ],
      "metadata": {
        "id": "-2rP2GVFjk_j"
      }
    },
    {
      "cell_type": "markdown",
      "source": [
        "# **Coding:-**"
      ],
      "metadata": {
        "id": "3UEr4KahnpAu"
      }
    },
    {
      "cell_type": "code",
      "source": [],
      "metadata": {
        "colab": {
          "base_uri": "https://localhost:8080/"
        },
        "id": "Banp8opNlaKm",
        "outputId": "8c4bb6c0-1459-46c9-eaf6-84f0615b1f07",
        "cellView": "form"
      },
      "execution_count": null,
      "outputs": [
        {
          "output_type": "stream",
          "name": "stdout",
          "text": [
            "50value\n",
            "3rd option\n",
            "2nd option\n"
          ]
        }
      ]
    },
    {
      "cell_type": "code",
      "source": [],
      "metadata": {
        "id": "sUE8Hq7zmvxN"
      },
      "execution_count": null,
      "outputs": []
    },
    {
      "cell_type": "code",
      "source": [],
      "metadata": {
        "id": "LfU1jxJy2DmN"
      },
      "execution_count": null,
      "outputs": []
    },
    {
      "cell_type": "code",
      "source": [],
      "metadata": {
        "colab": {
          "base_uri": "https://localhost:8080/"
        },
        "id": "Mcn7Ep9I0QEJ",
        "outputId": "883d3df5-d7f8-435b-82e3-096102b9a811",
        "cellView": "form"
      },
      "execution_count": null,
      "outputs": [
        {
          "output_type": "stream",
          "name": "stdout",
          "text": [
            "230\n",
            "1\n"
          ]
        }
      ]
    },
    {
      "cell_type": "code",
      "source": [],
      "metadata": {
        "id": "ZteFrLoM6UmD"
      },
      "execution_count": null,
      "outputs": []
    },
    {
      "cell_type": "code",
      "source": [],
      "metadata": {
        "id": "Z5EVfJqY6Vb6"
      },
      "execution_count": null,
      "outputs": []
    },
    {
      "cell_type": "code",
      "source": [],
      "metadata": {
        "colab": {
          "base_uri": "https://localhost:8080/"
        },
        "cellView": "form",
        "id": "7xAH3Cwk6WJt",
        "outputId": "4d05dad5-e6ca-4f4f-e163-b1ea79255267"
      },
      "execution_count": null,
      "outputs": [
        {
          "output_type": "stream",
          "name": "stdout",
          "text": [
            "2022-04-1\n"
          ]
        }
      ]
    },
    {
      "cell_type": "code",
      "source": [],
      "metadata": {
        "id": "T5aiz0_47bsY"
      },
      "execution_count": null,
      "outputs": []
    },
    {
      "cell_type": "code",
      "source": [],
      "metadata": {
        "id": "QqfSK9V-7cLV"
      },
      "execution_count": null,
      "outputs": []
    },
    {
      "cell_type": "code",
      "source": [],
      "metadata": {
        "colab": {
          "base_uri": "https://localhost:8080/"
        },
        "cellView": "form",
        "id": "hKNSDMVR7d4O",
        "outputId": "ce07bf84-b301-4bfb-f523-e75c880038c4"
      },
      "execution_count": null,
      "outputs": [
        {
          "output_type": "stream",
          "name": "stdout",
          "text": [
            "10.0\n",
            "-0.5\n",
            "18\n",
            "3\n"
          ]
        }
      ]
    },
    {
      "cell_type": "code",
      "source": [],
      "metadata": {
        "id": "M56V3Omo-Yj9"
      },
      "execution_count": null,
      "outputs": []
    },
    {
      "cell_type": "code",
      "source": [],
      "metadata": {
        "id": "fwoV33Wg-Y9t"
      },
      "execution_count": null,
      "outputs": []
    },
    {
      "cell_type": "code",
      "source": [],
      "metadata": {
        "colab": {
          "base_uri": "https://localhost:8080/"
        },
        "cellView": "form",
        "id": "5qyg37NB-ZV7",
        "outputId": "085e1190-5cdf-45fa-9941-765acf2b977b"
      },
      "execution_count": null,
      "outputs": [
        {
          "output_type": "stream",
          "name": "stdout",
          "text": [
            "False\n",
            "True\n"
          ]
        }
      ]
    },
    {
      "cell_type": "code",
      "source": [],
      "metadata": {
        "id": "t0tZbl86_dZ0"
      },
      "execution_count": null,
      "outputs": []
    },
    {
      "cell_type": "code",
      "source": [],
      "metadata": {
        "id": "fJYUwxOn_dtW"
      },
      "execution_count": null,
      "outputs": []
    },
    {
      "cell_type": "code",
      "source": [],
      "metadata": {
        "colab": {
          "base_uri": "https://localhost:8080/"
        },
        "cellView": "form",
        "id": "NNpMbh20_eKF",
        "outputId": "55cfef62-7151-484b-8fc5-90622b3e6ea0"
      },
      "execution_count": null,
      "outputs": [
        {
          "output_type": "stream",
          "name": "stdout",
          "text": [
            "You selected A\n"
          ]
        }
      ]
    },
    {
      "cell_type": "markdown",
      "source": [
        "\n",
        "\n",
        "---\n",
        "\n"
      ],
      "metadata": {
        "id": "QLBcSahunxJH"
      }
    }
  ]
}